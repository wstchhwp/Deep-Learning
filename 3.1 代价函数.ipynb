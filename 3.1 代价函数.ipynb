{
 "cells": [
  {
   "cell_type": "markdown",
   "metadata": {
    "collapsed": true
   },
   "source": [
    "# 代价函数\n",
    "输出层神经元是线性的，二次代价函数（quadratic cost） 常用来解决回归问题\n",
    "输出层神经元是sigmoid函数，交叉熵代价函数（cross-entropy） 常用来解决二分类问题\n",
    "输出层神经元是softmax回归函数，对数似然代价函数（log-likelihood cost）常用来解决多分类问题\n",
    "\n",
    "在Tensorflow中用：\n",
    "tf.nn.sigmoid_cross_cross_entropy_with_logits()来表示跟sigmoid搭配使用的交叉熵\n",
    "tf.nn.softmax_cross_cross_entropy_with_logits()来表示跟softmax搭配使用的交叉熵"
   ]
  },
  {
   "cell_type": "code",
   "execution_count": null,
   "metadata": {
    "collapsed": true
   },
   "outputs": [],
   "source": []
  }
 ],
 "metadata": {
  "kernelspec": {
   "display_name": "Python [conda env:tensorflow]",
   "language": "python",
   "name": "conda-env-tensorflow-py"
  },
  "language_info": {
   "codemirror_mode": {
    "name": "ipython",
    "version": 3
   },
   "file_extension": ".py",
   "mimetype": "text/x-python",
   "name": "python",
   "nbconvert_exporter": "python",
   "pygments_lexer": "ipython3",
   "version": "3.5.6"
  }
 },
 "nbformat": 4,
 "nbformat_minor": 2
}
